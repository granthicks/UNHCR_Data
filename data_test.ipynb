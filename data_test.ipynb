{
 "cells": [
  {
   "cell_type": "code",
   "execution_count": 1,
   "metadata": {},
   "outputs": [],
   "source": [
    "import requests\n",
    "import json\n",
    "import pandas as pd"
   ]
  },
  {
   "attachments": {},
   "cell_type": "markdown",
   "metadata": {},
   "source": [
    "This notebook will explore collecting data from the UNHCR API."
   ]
  },
  {
   "cell_type": "code",
   "execution_count": 25,
   "metadata": {},
   "outputs": [],
   "source": [
    "def fetch_data(url, params=None):\n",
    "    response = requests.get(url, params=params)\n",
    "    if response.status_code == 200:\n",
    "        return response\n",
    "    else:\n",
    "        print(f\"Error: {response.status_code}\")\n",
    "        return None"
   ]
  },
  {
   "cell_type": "code",
   "execution_count": 37,
   "metadata": {},
   "outputs": [],
   "source": [
    "query = \"https://www.unhcr.org/refugee-statistics/download/?url=Cq8F0R\""
   ]
  },
  {
   "cell_type": "code",
   "execution_count": 38,
   "metadata": {},
   "outputs": [
    {
     "name": "stdout",
     "output_type": "stream",
     "text": [
      "HTTP Error: 500 Server Error: Internal Server Error for url: https://api.unhcr.org/population/v1/demographics/?limit=20&dataset=population&displayType=demographics&columns%5B%5D=refugees&columns%5B%5D=asylum_seekers&columns%5B%5D=oip&yearFrom=2002&yearTo=2022&coo_all=true&coa_all=true&ptype_show=1&download=true\n"
     ]
    }
   ],
   "source": [
    "data = fetch_data(query)"
   ]
  },
  {
   "cell_type": "code",
   "execution_count": 39,
   "metadata": {},
   "outputs": [],
   "source": [
    "# read in data from csv skipping the first 14 lines of the file\n",
    "df = pd.read_csv('data/population.csv', skiprows=14)"
   ]
  },
  {
   "cell_type": "code",
   "execution_count": 40,
   "metadata": {},
   "outputs": [
    {
     "data": {
      "text/html": [
       "<div>\n",
       "<style scoped>\n",
       "    .dataframe tbody tr th:only-of-type {\n",
       "        vertical-align: middle;\n",
       "    }\n",
       "\n",
       "    .dataframe tbody tr th {\n",
       "        vertical-align: top;\n",
       "    }\n",
       "\n",
       "    .dataframe thead th {\n",
       "        text-align: right;\n",
       "    }\n",
       "</style>\n",
       "<table border=\"1\" class=\"dataframe\">\n",
       "  <thead>\n",
       "    <tr style=\"text-align: right;\">\n",
       "      <th></th>\n",
       "      <th>Year</th>\n",
       "      <th>Country of origin</th>\n",
       "      <th>Country of origin (ISO)</th>\n",
       "      <th>Country of asylum</th>\n",
       "      <th>Country of asylum (ISO)</th>\n",
       "      <th>Refugees under UNHCR's mandate</th>\n",
       "      <th>Asylum-seekers</th>\n",
       "      <th>Other people in need of international protection</th>\n",
       "    </tr>\n",
       "  </thead>\n",
       "  <tbody>\n",
       "    <tr>\n",
       "      <th>0</th>\n",
       "      <td>1980</td>\n",
       "      <td>Western Sahara</td>\n",
       "      <td>ESH</td>\n",
       "      <td>Algeria</td>\n",
       "      <td>DZA</td>\n",
       "      <td>50000</td>\n",
       "      <td>0</td>\n",
       "      <td>-</td>\n",
       "    </tr>\n",
       "    <tr>\n",
       "      <th>1</th>\n",
       "      <td>1980</td>\n",
       "      <td>Unknown</td>\n",
       "      <td>NaN</td>\n",
       "      <td>Algeria</td>\n",
       "      <td>DZA</td>\n",
       "      <td>2000</td>\n",
       "      <td>0</td>\n",
       "      <td>-</td>\n",
       "    </tr>\n",
       "    <tr>\n",
       "      <th>2</th>\n",
       "      <td>1980</td>\n",
       "      <td>Dem. Rep. of the Congo</td>\n",
       "      <td>COD</td>\n",
       "      <td>Angola</td>\n",
       "      <td>AGO</td>\n",
       "      <td>20000</td>\n",
       "      <td>0</td>\n",
       "      <td>-</td>\n",
       "    </tr>\n",
       "    <tr>\n",
       "      <th>3</th>\n",
       "      <td>1980</td>\n",
       "      <td>Namibia</td>\n",
       "      <td>NAM</td>\n",
       "      <td>Angola</td>\n",
       "      <td>AGO</td>\n",
       "      <td>50000</td>\n",
       "      <td>0</td>\n",
       "      <td>-</td>\n",
       "    </tr>\n",
       "    <tr>\n",
       "      <th>4</th>\n",
       "      <td>1980</td>\n",
       "      <td>South Africa</td>\n",
       "      <td>ZAF</td>\n",
       "      <td>Angola</td>\n",
       "      <td>AGO</td>\n",
       "      <td>5000</td>\n",
       "      <td>0</td>\n",
       "      <td>-</td>\n",
       "    </tr>\n",
       "  </tbody>\n",
       "</table>\n",
       "</div>"
      ],
      "text/plain": [
       "   Year       Country of origin Country of origin (ISO) Country of asylum   \n",
       "0  1980          Western Sahara                     ESH           Algeria  \\\n",
       "1  1980                Unknown                      NaN           Algeria   \n",
       "2  1980  Dem. Rep. of the Congo                     COD            Angola   \n",
       "3  1980                 Namibia                     NAM            Angola   \n",
       "4  1980            South Africa                     ZAF            Angola   \n",
       "\n",
       "  Country of asylum (ISO)  Refugees under UNHCR's mandate  Asylum-seekers   \n",
       "0                     DZA                           50000               0  \\\n",
       "1                     DZA                            2000               0   \n",
       "2                     AGO                           20000               0   \n",
       "3                     AGO                           50000               0   \n",
       "4                     AGO                            5000               0   \n",
       "\n",
       "  Other people in need of international protection  \n",
       "0                                                -  \n",
       "1                                                -  \n",
       "2                                                -  \n",
       "3                                                -  \n",
       "4                                                -  "
      ]
     },
     "execution_count": 40,
     "metadata": {},
     "output_type": "execute_result"
    }
   ],
   "source": [
    "df.head()"
   ]
  },
  {
   "cell_type": "code",
   "execution_count": 41,
   "metadata": {},
   "outputs": [
    {
     "name": "stdout",
     "output_type": "stream",
     "text": [
      "<class 'pandas.core.frame.DataFrame'>\n",
      "RangeIndex: 115806 entries, 0 to 115805\n",
      "Data columns (total 8 columns):\n",
      " #   Column                                            Non-Null Count   Dtype \n",
      "---  ------                                            --------------   ----- \n",
      " 0   Year                                              115806 non-null  int64 \n",
      " 1   Country of origin                                 115806 non-null  object\n",
      " 2   Country of origin (ISO)                           113378 non-null  object\n",
      " 3   Country of asylum                                 115806 non-null  object\n",
      " 4   Country of asylum (ISO)                           115780 non-null  object\n",
      " 5   Refugees under UNHCR's mandate                    115806 non-null  int64 \n",
      " 6   Asylum-seekers                                    115806 non-null  int64 \n",
      " 7   Other people in need of international protection  115806 non-null  object\n",
      "dtypes: int64(3), object(5)\n",
      "memory usage: 7.1+ MB\n"
     ]
    }
   ],
   "source": [
    "df.info()"
   ]
  },
  {
   "cell_type": "code",
   "execution_count": 42,
   "metadata": {},
   "outputs": [
    {
     "data": {
      "text/html": [
       "<div>\n",
       "<style scoped>\n",
       "    .dataframe tbody tr th:only-of-type {\n",
       "        vertical-align: middle;\n",
       "    }\n",
       "\n",
       "    .dataframe tbody tr th {\n",
       "        vertical-align: top;\n",
       "    }\n",
       "\n",
       "    .dataframe thead th {\n",
       "        text-align: right;\n",
       "    }\n",
       "</style>\n",
       "<table border=\"1\" class=\"dataframe\">\n",
       "  <thead>\n",
       "    <tr style=\"text-align: right;\">\n",
       "      <th></th>\n",
       "      <th>Year</th>\n",
       "      <th>Refugees under UNHCR's mandate</th>\n",
       "      <th>Asylum-seekers</th>\n",
       "    </tr>\n",
       "  </thead>\n",
       "  <tbody>\n",
       "    <tr>\n",
       "      <th>count</th>\n",
       "      <td>115806.000000</td>\n",
       "      <td>1.158060e+05</td>\n",
       "      <td>1.158060e+05</td>\n",
       "    </tr>\n",
       "    <tr>\n",
       "      <th>mean</th>\n",
       "      <td>2009.532563</td>\n",
       "      <td>5.087462e+03</td>\n",
       "      <td>4.436485e+02</td>\n",
       "    </tr>\n",
       "    <tr>\n",
       "      <th>std</th>\n",
       "      <td>8.985317</td>\n",
       "      <td>6.542574e+04</td>\n",
       "      <td>9.225480e+03</td>\n",
       "    </tr>\n",
       "    <tr>\n",
       "      <th>min</th>\n",
       "      <td>1980.000000</td>\n",
       "      <td>0.000000e+00</td>\n",
       "      <td>0.000000e+00</td>\n",
       "    </tr>\n",
       "    <tr>\n",
       "      <th>25%</th>\n",
       "      <td>2003.000000</td>\n",
       "      <td>5.000000e+00</td>\n",
       "      <td>0.000000e+00</td>\n",
       "    </tr>\n",
       "    <tr>\n",
       "      <th>50%</th>\n",
       "      <td>2011.000000</td>\n",
       "      <td>1.800000e+01</td>\n",
       "      <td>5.000000e+00</td>\n",
       "    </tr>\n",
       "    <tr>\n",
       "      <th>75%</th>\n",
       "      <td>2017.000000</td>\n",
       "      <td>1.500000e+02</td>\n",
       "      <td>3.100000e+01</td>\n",
       "    </tr>\n",
       "    <tr>\n",
       "      <th>max</th>\n",
       "      <td>2022.000000</td>\n",
       "      <td>3.737369e+06</td>\n",
       "      <td>1.028200e+06</td>\n",
       "    </tr>\n",
       "  </tbody>\n",
       "</table>\n",
       "</div>"
      ],
      "text/plain": [
       "                Year  Refugees under UNHCR's mandate  Asylum-seekers\n",
       "count  115806.000000                    1.158060e+05    1.158060e+05\n",
       "mean     2009.532563                    5.087462e+03    4.436485e+02\n",
       "std         8.985317                    6.542574e+04    9.225480e+03\n",
       "min      1980.000000                    0.000000e+00    0.000000e+00\n",
       "25%      2003.000000                    5.000000e+00    0.000000e+00\n",
       "50%      2011.000000                    1.800000e+01    5.000000e+00\n",
       "75%      2017.000000                    1.500000e+02    3.100000e+01\n",
       "max      2022.000000                    3.737369e+06    1.028200e+06"
      ]
     },
     "execution_count": 42,
     "metadata": {},
     "output_type": "execute_result"
    }
   ],
   "source": [
    "df.describe()"
   ]
  },
  {
   "cell_type": "code",
   "execution_count": null,
   "metadata": {},
   "outputs": [],
   "source": [
    "df."
   ]
  }
 ],
 "metadata": {
  "kernelspec": {
   "display_name": "venv",
   "language": "python",
   "name": "python3"
  },
  "language_info": {
   "codemirror_mode": {
    "name": "ipython",
    "version": 3
   },
   "file_extension": ".py",
   "mimetype": "text/x-python",
   "name": "python",
   "nbconvert_exporter": "python",
   "pygments_lexer": "ipython3",
   "version": "3.11.0"
  },
  "orig_nbformat": 4
 },
 "nbformat": 4,
 "nbformat_minor": 2
}
